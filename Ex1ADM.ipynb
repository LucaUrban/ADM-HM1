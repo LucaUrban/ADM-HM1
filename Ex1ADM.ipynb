{
 "cells": [
  {
   "cell_type": "markdown",
   "metadata": {},
   "source": [
    "# First Exercise"
   ]
  },
  {
   "cell_type": "markdown",
   "metadata": {},
   "source": [
    "### Say \"Hello, World!\" With Python"
   ]
  },
  {
   "cell_type": "code",
   "execution_count": null,
   "metadata": {},
   "outputs": [],
   "source": [
    "print(\"Hello, World!\")"
   ]
  },
  {
   "cell_type": "markdown",
   "metadata": {},
   "source": [
    "### Python If-Else"
   ]
  },
  {
   "cell_type": "code",
   "execution_count": null,
   "metadata": {},
   "outputs": [],
   "source": [
    "def exercise2(n):\n",
    "    if n % 2 == 1:\n",
    "        print(\"Weird\")\n",
    "    else:\n",
    "        if n == 2 or n == 4 or n > 20:\n",
    "            print(\"Not Weird\")\n",
    "        else:\n",
    "            print(\"Weird\")"
   ]
  },
  {
   "cell_type": "markdown",
   "metadata": {},
   "source": [
    "### Arithmetic Operators"
   ]
  },
  {
   "cell_type": "code",
   "execution_count": null,
   "metadata": {},
   "outputs": [],
   "source": [
    "def aritOp(a, b):\n",
    "    print(str(a+b) + \"\\n\" + str(a-b) + \"\\n\" + str(a*b))"
   ]
  },
  {
   "cell_type": "markdown",
   "metadata": {},
   "source": [
    "### Python: Division"
   ]
  },
  {
   "cell_type": "code",
   "execution_count": null,
   "metadata": {},
   "outputs": [],
   "source": [
    "def division(a, b):\n",
    "    print(str(int(a/b)) + \"\\n\" + str(a/b))"
   ]
  },
  {
   "cell_type": "markdown",
   "metadata": {},
   "source": [
    "### Loops"
   ]
  },
  {
   "cell_type": "code",
   "execution_count": 1,
   "metadata": {},
   "outputs": [],
   "source": [
    "def loops(n):\n",
    "    for i in range(n):\n",
    "        print(str(i**2))"
   ]
  },
  {
   "cell_type": "markdown",
   "metadata": {},
   "source": [
    "### Write a function"
   ]
  },
  {
   "cell_type": "code",
   "execution_count": null,
   "metadata": {},
   "outputs": [],
   "source": [
    "def is_leap(year):\n",
    "    leap = False\n",
    "    \n",
    "    if year % 4 == 0 and year % 100 != 0:\n",
    "        leap = True\n",
    "    if year % 400 == 0:\n",
    "        leap = True\n",
    "    \n",
    "    return leap"
   ]
  },
  {
   "cell_type": "markdown",
   "metadata": {},
   "source": [
    "### Print function"
   ]
  },
  {
   "cell_type": "code",
   "execution_count": null,
   "metadata": {},
   "outputs": [],
   "source": [
    "def stringOfNInt(n):\n",
    "    strFin = \"\"\n",
    "\n",
    "    for i in range(1, n+1):\n",
    "        strFin += str(i) \n",
    "\n",
    "    print(strFin)"
   ]
  },
  {
   "cell_type": "markdown",
   "metadata": {},
   "source": [
    "### List Comprehension "
   ]
  },
  {
   "cell_type": "code",
   "execution_count": null,
   "metadata": {},
   "outputs": [],
   "source": [
    "def listCreation(x, y, z, n):  \n",
    "    sol = []\n",
    "    for i in range(x+1):\n",
    "        for j in range(y+1):\n",
    "            for k in range(z+1):\n",
    "                if(i + j + k != n):\n",
    "                    sol.append([i, j, k])\n",
    "    print(sol)"
   ]
  },
  {
   "cell_type": "markdown",
   "metadata": {},
   "source": [
    "### Find the runner up"
   ]
  },
  {
   "cell_type": "code",
   "execution_count": null,
   "metadata": {},
   "outputs": [],
   "source": [
    "def runnerUp(arr):\n",
    "    arr.sort(reverse = True)\n",
    "    for i in arr:\n",
    "        if i != arr[0]:\n",
    "            print(i)\n",
    "            break"
   ]
  },
  {
   "cell_type": "markdown",
   "metadata": {},
   "source": [
    "### Nested List"
   ]
  },
  {
   "cell_type": "code",
   "execution_count": null,
   "metadata": {},
   "outputs": [],
   "source": [
    "if __name__ == '__main__':\n",
    "    # creation and inizialization of variables\n",
    "    students = []; scores = []; sol = []; app = []\n",
    "    second = -1\n",
    "    for _ in range(int(raw_input())):\n",
    "        name = raw_input()\n",
    "        score = float(raw_input())\n",
    "        students.append(name)\n",
    "        scores.append(score)\n",
    "    app = scores\n",
    "\n",
    "    # searching of the runner up\n",
    "    scores.sort()\n",
    "    for i in scores:\n",
    "        if i != scores[0]:\n",
    "            second = i\n",
    "            break\n",
    "\n",
    "    # creation and printing of the solution\n",
    "    for i in range(len(app)):\n",
    "        if app[i] == second:\n",
    "            sol.append(students[i])\n",
    "    sol.sort()\n",
    "    for i in sol:\n",
    "        print(i)"
   ]
  },
  {
   "cell_type": "markdown",
   "metadata": {},
   "source": [
    "### Finding the percentage"
   ]
  },
  {
   "cell_type": "code",
   "execution_count": null,
   "metadata": {},
   "outputs": [],
   "source": [
    "if __name__ == '__main__':\n",
    "    n = int(raw_input())\n",
    "    student_marks = {}\n",
    "    for _ in range(n):\n",
    "        line = raw_input().split()\n",
    "        name, scores = line[0], line[1:]\n",
    "        scores = map(float, scores)\n",
    "        student_marks[name] = scores\n",
    "    query_name = raw_input()\n",
    "\n",
    "    sum_voti = 0; result = 0\n",
    "    for nome in student_marks.keys():\n",
    "        if nome == query_name:\n",
    "            for i in student_marks[nome]:\n",
    "                sum_voti += i\n",
    "            result = float(sum_voti/len(student_marks[nome]))\n",
    "\n",
    "    print(\"{0:.2f}\".format(result)) "
   ]
  },
  {
   "cell_type": "markdown",
   "metadata": {},
   "source": [
    "### Lists"
   ]
  },
  {
   "cell_type": "code",
   "execution_count": null,
   "metadata": {},
   "outputs": [],
   "source": [
    "if __name__ == '__main__':\n",
    "    n = int(raw_input())\n",
    "\n",
    "    op = []; obj = []\n",
    "    for i in range(n):\n",
    "        op = str(raw_input()).split()\n",
    "        \n",
    "        if op[0] == \"insert\":\n",
    "            obj.insert(int(op[1]), int(op[2]))\n",
    "\n",
    "        if op[0] == \"print\":\n",
    "            print(obj)\n",
    "\n",
    "        if op[0] == \"remove\":\n",
    "            obj.remove(int(op[1]))\n",
    "            \n",
    "        if op[0] == \"append\":\n",
    "            obj.append(int(op[1]))\n",
    "            \n",
    "        if op[0] == \"sort\":\n",
    "            obj.sort(reverse = False)\n",
    "            \n",
    "        if op[0] == \"pop\":\n",
    "            obj.pop()\n",
    "            \n",
    "        if op[0] == \"reverse\":\n",
    "            obj.reverse()"
   ]
  },
  {
   "cell_type": "markdown",
   "metadata": {},
   "source": [
    "### Tuples"
   ]
  },
  {
   "cell_type": "code",
   "execution_count": null,
   "metadata": {},
   "outputs": [],
   "source": [
    "def hashList(lis):\n",
    "    print(hash(lis))"
   ]
  },
  {
   "cell_type": "markdown",
   "metadata": {},
   "source": [
    "### sWAP cASE"
   ]
  },
  {
   "cell_type": "code",
   "execution_count": null,
   "metadata": {},
   "outputs": [],
   "source": [
    "def swap_case(s):\n",
    "    sol = \"\"\n",
    "    \n",
    "    # for each letter controls if it's a lowercase or an uppercase and changes it\n",
    "    for c in s:\n",
    "        if c.islower():\n",
    "            sol += c.upper()\n",
    "        else:\n",
    "            sol += c.lower()\n",
    "\n",
    "    return \"\".join(sol)"
   ]
  },
  {
   "cell_type": "markdown",
   "metadata": {},
   "source": [
    "### String Split and join"
   ]
  },
  {
   "cell_type": "code",
   "execution_count": null,
   "metadata": {},
   "outputs": [],
   "source": [
    "def split_and_join(line):\n",
    "    return \"-\".join(line.split(\" \"))"
   ]
  },
  {
   "cell_type": "markdown",
   "metadata": {},
   "source": [
    "### What's your name?"
   ]
  },
  {
   "cell_type": "code",
   "execution_count": null,
   "metadata": {},
   "outputs": [],
   "source": [
    "def print_full_name(a, b):\n",
    "    print(\"Hello \" + a + \" \" + b + \"! You just delved into python.\")"
   ]
  },
  {
   "cell_type": "markdown",
   "metadata": {},
   "source": [
    "### Mutations"
   ]
  },
  {
   "cell_type": "code",
   "execution_count": null,
   "metadata": {},
   "outputs": [],
   "source": [
    "def mutate_string(string, position, character):\n",
    "    string = list(string)\n",
    "    string[position] = character\n",
    "    return \"\".join(string)"
   ]
  },
  {
   "cell_type": "markdown",
   "metadata": {},
   "source": [
    "### Find a string"
   ]
  },
  {
   "cell_type": "code",
   "execution_count": null,
   "metadata": {},
   "outputs": [],
   "source": [
    "def count_substring(string, sub_string):\n",
    "    cont = 0; pos = -1\n",
    "    while string.find(sub_string, pos+1, len(string)) != -1:\n",
    "        pos = string.find(sub_string, pos+1, len(string))\n",
    "        cont += 1\n",
    "    return cont"
   ]
  },
  {
   "cell_type": "markdown",
   "metadata": {},
   "source": [
    "### String Validators"
   ]
  },
  {
   "cell_type": "code",
   "execution_count": 3,
   "metadata": {},
   "outputs": [],
   "source": [
    "def validators(s):\n",
    "    ls = list(s)\n",
    "    c1 = False; c2 = False; c3 = False; c4 = False; c5 = False\n",
    "    for i in ls:\n",
    "        if i.isalnum():\n",
    "            c1 = True\n",
    "        if i.isalpha():\n",
    "            c2 = True\n",
    "        if i.isdigit():\n",
    "            c3 = True\n",
    "        if i.islower():\n",
    "            c4 = True\n",
    "        if i.isupper():\n",
    "            c5 = True\n",
    "    \n",
    "    print(c1) \n",
    "    print(c2) \n",
    "    print(c3) \n",
    "    print(c4) \n",
    "    print(c5)"
   ]
  },
  {
   "cell_type": "markdown",
   "metadata": {},
   "source": [
    "### Text Alignment"
   ]
  },
  {
   "cell_type": "code",
   "execution_count": 4,
   "metadata": {},
   "outputs": [],
   "source": [
    "def HRlogo(n):\n",
    "    widTot = (6*n)-1; widPar = (2*n)-1\n",
    "    s = \"\"\n",
    "    \n",
    "    # prima cupola\n",
    "    for i in range(n):\n",
    "        s = ((2*i)+1)*\"H\"\n",
    "        print(s.center(widPar, \" \"))\n",
    "\n",
    "    # prima coppia di piloni\n",
    "    s = (\"H\" * n) + (\" \" * (3 * n)) + (\"H\" * n)\n",
    "    for i in range(n+1):\n",
    "        print(s.center(widTot, \" \"))\n",
    "\n",
    "    # parte centrale\n",
    "    s = (5 * n) * \"H\"\n",
    "    for i in range((n+1)/2):\n",
    "        print(s.center(widTot, \" \"))\n",
    "    \n",
    "    # seconda coppia di piloni\n",
    "    s = (\"H\" * n) + (\" \" * (3 * n)) + (\"H\" * n)\n",
    "    for i in range(n+1):\n",
    "        print(s.center(widTot, \" \"))\n",
    "\n",
    "    # prima cupola\n",
    "    for i in range(1, n+1):\n",
    "        s = ((2*(n-i))+1)*\"H\"\n",
    "        print(s.rjust(widTot-i+1, \" \"))"
   ]
  },
  {
   "cell_type": "markdown",
   "metadata": {},
   "source": [
    "### Text Wrap"
   ]
  },
  {
   "cell_type": "code",
   "execution_count": null,
   "metadata": {},
   "outputs": [],
   "source": [
    "def wrap(string, max_width):\n",
    "    sol = \"\"\n",
    "    num = int(len(string) / max_width)\n",
    "    for i in range(num):\n",
    "        sol += string[i*max_width : (i+1)*max_width] + \"\\n\"\n",
    "    sol += string[num*max_width : len(string)]\n",
    "    return sol"
   ]
  },
  {
   "cell_type": "markdown",
   "metadata": {},
   "source": [
    "### Designer Door Mat"
   ]
  },
  {
   "cell_type": "code",
   "execution_count": null,
   "metadata": {},
   "outputs": [],
   "source": [
    "def doorMat(lIn):\n",
    "    for i in range(lIn[0]):\n",
    "        if i < int(lIn[0]/2):\n",
    "            print((\".|.\" * (2 * i +1)).center(lIn[1], \"-\"))\n",
    "        if i == int(lIn[0]/2):\n",
    "            print(\"WELCOME\".center(lIn[1], \"-\"))\n",
    "        if i > int(lIn[0]/2):\n",
    "            print((\".|.\" * (2 * (lIn[0] - (i+1)) +1)).center(lIn[1], \"-\"))"
   ]
  },
  {
   "cell_type": "markdown",
   "metadata": {},
   "source": [
    "### String Formatting"
   ]
  },
  {
   "cell_type": "code",
   "execution_count": null,
   "metadata": {},
   "outputs": [],
   "source": [
    "def print_formatted(number):\n",
    "    width = len(str(\"{:b}\".format(number))) + 1\n",
    "    for i in range(1, number+1):\n",
    "        print(str(i).rjust(width-1, \" \") + (\"{:o}\".format(i)).rjust(width, \" \") + ((\"{:x}\".format(i)).upper()).rjust(width, \" \") + (\" {:b}\".format(i)).rjust(width, \" \"))"
   ]
  },
  {
   "cell_type": "markdown",
   "metadata": {},
   "source": [
    "### Alphabet Rangoli"
   ]
  },
  {
   "cell_type": "code",
   "execution_count": null,
   "metadata": {},
   "outputs": [],
   "source": [
    "def print_rangoli(size):\n",
    "    lisChar = list(set(\"abcdefghijklmnopqrstuvwxyz\"))\n",
    "    s = lisChar[size-1]\n",
    "    l = [s]\n",
    "    \n",
    "    # creates the strings\n",
    "    for i in range(1, size):\n",
    "        s = s[0:(2*i)-1] + \"-\" + lisChar[size-i-1] + \"-\" + s[2*(i-1):] \n",
    "        l.append(s)\n",
    "    \n",
    "    # prints the string with the formatted output \n",
    "    for i in range(size):\n",
    "        print(l[i].center(len(l[len(l)-1]), \"-\"))\n",
    "    for i in range(size-1):\n",
    "        print(l[size-i-2].center(len(l[len(l)-1]), \"-\"))"
   ]
  },
  {
   "cell_type": "markdown",
   "metadata": {},
   "source": [
    "### Capitalize!"
   ]
  },
  {
   "cell_type": "code",
   "execution_count": null,
   "metadata": {},
   "outputs": [],
   "source": [
    "def solve(s):\n",
    "    lS = s.split(); string = \"\"\n",
    "    for name in lS:\n",
    "        string = name.capitalize()\n",
    "        s = s.replace(name, string, 1)\n",
    "    return s"
   ]
  },
  {
   "cell_type": "markdown",
   "metadata": {},
   "source": [
    "### Merge the Tools!"
   ]
  },
  {
   "cell_type": "code",
   "execution_count": 5,
   "metadata": {},
   "outputs": [],
   "source": [
    "def merge_the_tools(string, k):\n",
    "    lsub = []\n",
    "    out = \"\"\n",
    "    \n",
    "    # decompose the string into pieces to be checked\n",
    "    for i in range(len(string)/k):\n",
    "        lsub.append(string[k * i: k * (i + 1)])\n",
    "\n",
    "    # choses only the letters that aren't in the solution \n",
    "    for part in lsub:\n",
    "        for c in part:\n",
    "            if c not in out:\n",
    "                out += c\n",
    "        print(out)\n",
    "        out = \"\""
   ]
  },
  {
   "cell_type": "markdown",
   "metadata": {},
   "source": [
    "### The Minion Game"
   ]
  },
  {
   "cell_type": "code",
   "execution_count": null,
   "metadata": {},
   "outputs": [],
   "source": [
    "def minion_game(string):\n",
    "    vocali = \"AEIOU\"; subString = \"\"\n",
    "    puntStuart = 0; puntKevin = 0; pos = 0\n",
    "\n",
    "    # chose all the possible substrings of the word and for each assign a point to the correct player and prints the result\n",
    "    for i in range(1, len(string)+1):\n",
    "        while pos + i < len(string) + 1:\n",
    "            subString = string[pos : pos+i]\n",
    "            if subString[0] in vocali:\n",
    "                puntKevin += 1\n",
    "            else:\n",
    "                puntStuart += 1\n",
    "            pos += 1\n",
    "        pos = 0\n",
    "    \n",
    "    if puntStuart > puntKevin:\n",
    "        print(\"Stuart \" + str(puntStuart))\n",
    "    elif puntStuart < puntKevin:\n",
    "        print(\"Kevin \" + str(puntKevin))\n",
    "    else:\n",
    "        print(\"Draw\")"
   ]
  },
  {
   "cell_type": "markdown",
   "metadata": {},
   "source": [
    "### Introduction to Sets"
   ]
  },
  {
   "cell_type": "code",
   "execution_count": null,
   "metadata": {},
   "outputs": [],
   "source": [
    "def average(array):\n",
    "    return sum(set(array)) / len(set(array))"
   ]
  },
  {
   "cell_type": "markdown",
   "metadata": {},
   "source": [
    "### Symmetric Difference"
   ]
  },
  {
   "cell_type": "code",
   "execution_count": null,
   "metadata": {},
   "outputs": [],
   "source": [
    "# extraction of the input\n",
    "a = raw_input()\n",
    "b = raw_input()\n",
    "c = raw_input()\n",
    "d = raw_input()\n",
    "\n",
    "# creation of sets\n",
    "lis1 = list(map(int, b.split()))\n",
    "mySet1 = set(lis1)\n",
    "lis2 = list(map(int, d.split()))\n",
    "mySet2 = set(lis2)\n",
    "\n",
    "# creating the symmetric difference\n",
    "symDif = []\n",
    "for i in mySet1:\n",
    "    if i not in mySet2:\n",
    "        symDif.append(i)\n",
    "for j in mySet2:\n",
    "    if j not in mySet1:\n",
    "        symDif.append(j)\n",
    "symDif.sort()\n",
    "\n",
    "# printing result\n",
    "for k in symDif:\n",
    "    print(k)"
   ]
  },
  {
   "cell_type": "markdown",
   "metadata": {},
   "source": [
    "### Set .add()"
   ]
  },
  {
   "cell_type": "code",
   "execution_count": null,
   "metadata": {},
   "outputs": [],
   "source": [
    "if __name__ == '__main__':\n",
    "    n = int(raw_input())\n",
    "    set_c = set()\n",
    "    for i in range(n):\n",
    "        country = raw_input()\n",
    "        set_c.add(country)\n",
    "\n",
    "    print(len(set_c))\n"
   ]
  },
  {
   "cell_type": "markdown",
   "metadata": {},
   "source": [
    "### Set .union()"
   ]
  },
  {
   "cell_type": "code",
   "execution_count": null,
   "metadata": {},
   "outputs": [],
   "source": [
    "def lenUnionSet(s1, s2):\n",
    "    print(len(s1.union(s2)))"
   ]
  },
  {
   "cell_type": "markdown",
   "metadata": {},
   "source": [
    "### Set .intersection()"
   ]
  },
  {
   "cell_type": "code",
   "execution_count": null,
   "metadata": {},
   "outputs": [],
   "source": [
    "def lenIntersectionSet(s1, s2):\n",
    "    print(len(s1.intersection(s2)))"
   ]
  },
  {
   "cell_type": "markdown",
   "metadata": {},
   "source": [
    "### Set .difference()"
   ]
  },
  {
   "cell_type": "code",
   "execution_count": null,
   "metadata": {},
   "outputs": [],
   "source": [
    "def lenDifferenceSet(s1, s2):\n",
    "    print(len(s1.difference(s2)))"
   ]
  },
  {
   "cell_type": "markdown",
   "metadata": {},
   "source": [
    "### Set .symmetric_difference()"
   ]
  },
  {
   "cell_type": "code",
   "execution_count": null,
   "metadata": {},
   "outputs": [],
   "source": [
    "def lenSymmDifferenceSet(s1, s2):\n",
    "    print(len(s1.difference(s2)))"
   ]
  },
  {
   "cell_type": "markdown",
   "metadata": {},
   "source": [
    "### Set Mutations"
   ]
  },
  {
   "cell_type": "code",
   "execution_count": null,
   "metadata": {},
   "outputs": [],
   "source": [
    "if __name__ == '__main__':\n",
    "    numElSet = int(raw_input())\n",
    "    s = set(map(int, raw_input().split()))\n",
    "    numOp = int(raw_input())\n",
    "\n",
    "    # choses and does the operation according to the given input \n",
    "    for i in range(numOp):\n",
    "        op = list(raw_input().split())\n",
    "        t = set(map(int, raw_input().split()))\n",
    "\n",
    "        if op[0] == \"intersection_update\":\n",
    "            s.intersection_update(t)\n",
    "        if op[0] == \"update\":\n",
    "            s.update(t)\n",
    "        if op[0] == \"symmetric_difference_update\":\n",
    "            s.symmetric_difference_update(t)\n",
    "        if op[0] == \"difference_update\":\n",
    "            s.difference_update(t)\n",
    "\n",
    "    print(sum(s))"
   ]
  },
  {
   "cell_type": "markdown",
   "metadata": {},
   "source": [
    "### Check Subset"
   ]
  },
  {
   "cell_type": "code",
   "execution_count": null,
   "metadata": {},
   "outputs": [],
   "source": [
    "if __name__ == '__main__':\n",
    "    n = int(raw_input())\n",
    "\n",
    "    for i in range(n):\n",
    "        d1 = int(raw_input())\n",
    "        s1 = set(map(int, raw_input().split()))\n",
    "        d2 = int(raw_input())\n",
    "        s2 = set(map(int, raw_input().split()))\n",
    "        \n",
    "        # controls if the union of two sets has the same number of elements\n",
    "        if d1 >= d2:\n",
    "            print(len(list(s1)) == len(list(s1.union(s2))))\n",
    "        else:\n",
    "            print(len(list(s2)) == len(list(s2.union(s1))))"
   ]
  },
  {
   "cell_type": "markdown",
   "metadata": {},
   "source": [
    "### Check Strict Superset"
   ]
  },
  {
   "cell_type": "code",
   "execution_count": null,
   "metadata": {},
   "outputs": [],
   "source": [
    "if __name__ == '__main__':\n",
    "    s = set(map(int, raw_input().split()))\n",
    "    n = int(raw_input())\n",
    "    cond = True\n",
    "\n",
    "    for i in range(n):\n",
    "        t = set(map(int, raw_input().split()))\n",
    "\n",
    "        if len(list(t.difference(s))) != 0:\n",
    "            cond = False\n",
    "            break\n",
    "    \n",
    "    print(cond)"
   ]
  },
  {
   "cell_type": "markdown",
   "metadata": {},
   "source": [
    "### No Idea!"
   ]
  },
  {
   "cell_type": "code",
   "execution_count": null,
   "metadata": {},
   "outputs": [],
   "source": [
    "if __name__ == '__main__':\n",
    "    n_m = list(map(int, raw_input().split()))\n",
    "    arr = list(map(int, raw_input().split()))\n",
    "    set1 = list(map(int, raw_input().split()))\n",
    "    set2 = list(map(int, raw_input().split()))\n",
    "\n",
    "    happiness = 0\n",
    "    for i in arr:\n",
    "        if i in set1:\n",
    "            happiness += 1\n",
    "        if i in set2:\n",
    "            happiness -= 1\n",
    "\n",
    "    print happiness"
   ]
  },
  {
   "cell_type": "code",
   "execution_count": null,
   "metadata": {},
   "outputs": [],
   "source": []
  },
  {
   "cell_type": "code",
   "execution_count": null,
   "metadata": {},
   "outputs": [],
   "source": [
    "if __name__ == '__main__':\n",
    "    numElSet = int(raw_input())\n",
    "    s = set(map(int, raw_input().split()))\n",
    "    numOp = int(raw_input())\n",
    "\n",
    "    for i in range(numOp):\n",
    "        op = list(raw_input().split())\n",
    "\n",
    "        # choses and does the operation according to the given input\n",
    "        if op[0] == \"discard\":\n",
    "            s.discard(int(op[1]))\n",
    "        if op[0] == \"remove\":\n",
    "            try:\n",
    "                s.remove(int(op[1]))\n",
    "            except:\n",
    "                s.discard(int(op[1]))\n",
    "            finally:\n",
    "                if op[0] == \"pop\":\n",
    "                    s.pop()\n",
    "\n",
    "    print(sum(s))"
   ]
  },
  {
   "cell_type": "markdown",
   "metadata": {},
   "source": [
    "### The Captain's Room"
   ]
  },
  {
   "cell_type": "code",
   "execution_count": null,
   "metadata": {},
   "outputs": [],
   "source": [
    "if __name__ == '__main__':\n",
    "    numElFam = int(raw_input())\n",
    "    l = list(map(int, raw_input().split()))\n",
    "    app = set(l)\n",
    "    c = 0\n",
    "\n",
    "    # for each element in the set controls if the element compares into the list one time\n",
    "    # when it occurs prints the result and breaks the cycles\n",
    "    for el in app:\n",
    "        for elList in l:\n",
    "            if el == elList:\n",
    "                c += 1\n",
    "        if c == 1:\n",
    "            print(el)\n",
    "            break\n",
    "        c = 0"
   ]
  },
  {
   "cell_type": "markdown",
   "metadata": {},
   "source": [
    "### collections.Counter()"
   ]
  },
  {
   "cell_type": "code",
   "execution_count": null,
   "metadata": {},
   "outputs": [],
   "source": [
    "from collections import counter\n",
    "\n",
    "if __name__ == '__main__':\n",
    "    varIn = int(raw_input())\n",
    "    l = list(map(int, raw_input().split()))\n",
    "    numCli = int(raw_input())\n",
    "    size_pair = Counter(l)\n",
    "    total = 0\n",
    "\n",
    "    for i in range(numCli):\n",
    "        cli = list(map(int, raw_input().split()))\n",
    "\n",
    "        if cli[0] in size_pair.keys():\n",
    "            if size_pair[cli[0]] != 0:\n",
    "                size_pair[cli[0]] -= 1\n",
    "                total += cli[1]\n",
    "        \n",
    "    print(total)"
   ]
  },
  {
   "cell_type": "markdown",
   "metadata": {},
   "source": [
    "### DefaultDict Tutorial"
   ]
  },
  {
   "cell_type": "code",
   "execution_count": null,
   "metadata": {},
   "outputs": [],
   "source": [
    "from collections import defaultdict\n",
    "\n",
    "if __name__ == '__main__':\n",
    "    lNumEl = list(map(int, raw_input().split()))\n",
    "    d = defaultdict(list)\n",
    "    res = \"\"\n",
    "\n",
    "    for i in range(lNumEl[0]):\n",
    "        word = raw_input()\n",
    "        d[word].append(i+1)\n",
    "    \n",
    "    for i in range(lNumEl[1]):\n",
    "        word = raw_input()\n",
    "        if word in d.keys():\n",
    "            for j in d[word]:\n",
    "                res += str(j) + \" \"\n",
    "            print(res)\n",
    "        else:\n",
    "            print(-1)\n",
    "        \n",
    "        res = \"\""
   ]
  },
  {
   "cell_type": "markdown",
   "metadata": {},
   "source": [
    "### Collections .namedtuple()"
   ]
  },
  {
   "cell_type": "code",
   "execution_count": null,
   "metadata": {},
   "outputs": [],
   "source": [
    "if __name__ == '__main__':\n",
    "    numSt = int(raw_input())\n",
    "    names = list(raw_input().split())\n",
    "    index = -1; tot = 0\n",
    "\n",
    "    for i in range(len(names)):\n",
    "        if names[i] == \"MARKS\":\n",
    "            index = i\n",
    "    \n",
    "    for i in range(numSt):\n",
    "        row = list(raw_input().split())\n",
    "        tot += float(row[index])\n",
    "\n",
    "    print(\"{0:.2f}\".format(float(tot/numSt)))"
   ]
  },
  {
   "cell_type": "markdown",
   "metadata": {},
   "source": [
    "### Collections .OrderedDict()"
   ]
  },
  {
   "cell_type": "code",
   "execution_count": null,
   "metadata": {},
   "outputs": [],
   "source": [
    "if __name__ == '__main__':\n",
    "    numEl = int(raw_input())\n",
    "    name = \"\"\n",
    "    d = {}\n",
    "\n",
    "    for i in range(numEl):\n",
    "        l = list(raw_input().split())\n",
    "        for j in range(len(l)-1):\n",
    "            name += l[j] + \" \"\n",
    "\n",
    "        if name not in d.keys():\n",
    "            d[name] = int(l[len(l)-1])\n",
    "        else:\n",
    "            d[name] += int(l[len(l)-1])\n",
    "\n",
    "        name = \"\"\n",
    "\n",
    "    for key in d.keys():\n",
    "        print(key + str(d[key]))"
   ]
  },
  {
   "cell_type": "markdown",
   "metadata": {},
   "source": [
    "### Word Order"
   ]
  },
  {
   "cell_type": "code",
   "execution_count": null,
   "metadata": {},
   "outputs": [],
   "source": [
    "from collections import defaultdict\n",
    "\n",
    "if __name__ == '__main__':\n",
    "    numEl = map(int, raw_input().split())\n",
    "    d = defaultdict(list)\n",
    "    res = \"\"\n",
    "\n",
    "    for i in range(numEl[0]):\n",
    "        word = raw_input()\n",
    "        d[word].append(i+1)\n",
    "\n",
    "    print(len(d.keys()))\n",
    "    for w in d.keys():\n",
    "        res += str(len(d[w])) + \" \"\n",
    "\n",
    "    print(res)"
   ]
  },
  {
   "cell_type": "markdown",
   "metadata": {},
   "source": [
    "### Collections .deque()"
   ]
  },
  {
   "cell_type": "code",
   "execution_count": null,
   "metadata": {},
   "outputs": [],
   "source": [
    "from collections import deque\n",
    "\n",
    "if __name__ == '__main__':\n",
    "    numOp = int(raw_input())\n",
    "    l = deque()\n",
    "    res = \"\"\n",
    "    \n",
    "    for i in range(numOp):\n",
    "        op = list(raw_input().split())\n",
    "\n",
    "        if op[0] == \"append\":\n",
    "            l.append(op[1])\n",
    "        if op[0] == \"appendleft\":\n",
    "            l.appendleft(op[1])\n",
    "        if op[0] == \"pop\":\n",
    "            l.pop()\n",
    "        if op[0] == \"popleft\":\n",
    "            l.popleft()\n",
    "    \n",
    "    for el in l:\n",
    "        res += el + \" \"\n",
    "    \n",
    "    print(res)"
   ]
  },
  {
   "cell_type": "markdown",
   "metadata": {},
   "source": [
    "### Company Logo"
   ]
  },
  {
   "cell_type": "code",
   "execution_count": null,
   "metadata": {},
   "outputs": [],
   "source": [
    "if __name__ == '__main__':\n",
    "    comName = raw_input()\n",
    "    charInStr = set(comName)\n",
    "    charInStr = list(charInStr)\n",
    "    charInStr.sort()\n",
    "    dRes = {}\n",
    "\n",
    "    for el in charInStr:\n",
    "        if len(dRes) < 3:\n",
    "            dRes[el] = comName.count(el)\n",
    "        else:\n",
    "            values = sorted(dRes.values())\n",
    "            if comName.count(el) > values[0]:\n",
    "                l = sorted(dRes, key=dRes.__getitem__)\n",
    "                dRes.pop(l[0])\n",
    "                dRes[el] = comName.count(el)\n",
    "\n",
    "    for key in sorted(dRes, key=dRes.__getitem__, reverse = True):\n",
    "        print(key + \" \" + str(dRes[key]))"
   ]
  },
  {
   "cell_type": "markdown",
   "metadata": {},
   "source": [
    "### Pilling Up!"
   ]
  },
  {
   "cell_type": "code",
   "execution_count": null,
   "metadata": {},
   "outputs": [],
   "source": [
    "for t in range(input()):\n",
    "    input()\n",
    "    lst = map(int, raw_input().split())\n",
    "    l = len(lst)\n",
    "    i = 0\n",
    "    while i < l - 1 and lst[i] >= lst[i+1]:\n",
    "        i += 1\n",
    "    while i < l - 1 and lst[i] <= lst[i+1]:\n",
    "        i += 1\n",
    "    print \"Yes\" if i == l - 1 else \"No\""
   ]
  },
  {
   "cell_type": "markdown",
   "metadata": {},
   "source": [
    "### Calendar Module"
   ]
  },
  {
   "cell_type": "code",
   "execution_count": null,
   "metadata": {},
   "outputs": [],
   "source": [
    "if __name__ == '__main__':\n",
    "    day = list(map(int, raw_input().split()))\n",
    "\n",
    "    print(list(calendar.day_name)[calendar.weekday(day[2], day[0], day[1])].upper())"
   ]
  },
  {
   "cell_type": "markdown",
   "metadata": {},
   "source": [
    "### Exceptions"
   ]
  },
  {
   "cell_type": "code",
   "execution_count": null,
   "metadata": {},
   "outputs": [],
   "source": [
    "if __name__ == '__main__':\n",
    "    n = int(raw_input())\n",
    "\n",
    "    for i in range(n):\n",
    "        l = list(raw_input().split())\n",
    "        try:\n",
    "            print(int(l[0]) / int(l[1]))\n",
    "        except ZeroDivisionError as e1:\n",
    "            print \"Error Code: integer division or modulo by zero\"\n",
    "        except ValueError as e2:\n",
    "            print \"Error Code:\", e2"
   ]
  },
  {
   "cell_type": "markdown",
   "metadata": {},
   "source": [
    "### Zipped"
   ]
  },
  {
   "cell_type": "code",
   "execution_count": null,
   "metadata": {},
   "outputs": [],
   "source": [
    "if __name__ == '__main__':\n",
    "    numStSub = list(map(int, raw_input().split()))\n",
    "    l = []; matrix = []\n",
    "\n",
    "    for i in range(numStSub[1]):\n",
    "        l = list(map(float, raw_input().split()))\n",
    "        matrix.append(l)\n",
    " \n",
    "    for el in zip(*matrix):\n",
    "        print(\"{0:.2f}\".format(sum(el)/len(el)))"
   ]
  },
  {
   "cell_type": "markdown",
   "metadata": {},
   "source": [
    "### Athlete Sort"
   ]
  },
  {
   "cell_type": "code",
   "execution_count": null,
   "metadata": {},
   "outputs": [],
   "source": [
    "if __name__ == '__main__':\n",
    "    n, m = map(int, raw_input().split())\n",
    "    l = []\n",
    "\n",
    "    for i in range(n):\n",
    "        l.append(list(map(int, raw_input().split())))\n",
    "\n",
    "    k = int(raw_input())\n",
    "    app = list(zip(*l)[k])\n",
    "    res = \"\"\n",
    "    app.sort()\n",
    "\n",
    "    for i in app:\n",
    "        for el in l:\n",
    "            if el[k] == i:\n",
    "                for e in el:\n",
    "                    res += str(e) + \" \"\n",
    "                print(res)\n",
    "                res = \"\"\n",
    "                l.remove(el)\n",
    "                break"
   ]
  },
  {
   "cell_type": "markdown",
   "metadata": {},
   "source": [
    "### ginortS "
   ]
  },
  {
   "cell_type": "code",
   "execution_count": null,
   "metadata": {},
   "outputs": [],
   "source": [
    "if __name__ == '__main__':\n",
    "    s = raw_input()\n",
    "    pDigEv = \"\"; pDigOd = \"\"; pUpp = \"\"; pLwe = \"\"\n",
    "    app = []\n",
    "\n",
    "    for ch in s:\n",
    "        app.append(ch)\n",
    "    app.sort()\n",
    "\n",
    "    for ch in app:\n",
    "        if ch.isdigit():\n",
    "            if int(ch) % 2 == 0:\n",
    "                pDigEv += ch\n",
    "            else:\n",
    "                pDigOd += ch\n",
    "        if ch.isupper():\n",
    "            pUpp += ch\n",
    "        if ch.islower():\n",
    "            pLwe += ch\n",
    "    \n",
    "    print(pLwe + pUpp + pDigOd + pDigEv)"
   ]
  },
  {
   "cell_type": "markdown",
   "metadata": {},
   "source": [
    "### Map and Lambda Function"
   ]
  },
  {
   "cell_type": "code",
   "execution_count": null,
   "metadata": {},
   "outputs": [],
   "source": [
    "cube = lambda x: x**3\n",
    "\n",
    "def fibonacci(n):\n",
    "    l = [0, 1, 0]; l0 = []; l1 = [0]; res = [0, 1]\n",
    "\n",
    "    if n == 0:\n",
    "        return l0\n",
    "    if n == 1:\n",
    "        return l1\n",
    "    for i in range(2, n):\n",
    "        l[2] = l[0] + l[1]\n",
    "        l[0] = l[1]\n",
    "        l[1] = l[2]\n",
    "        res.append(l[2])\n",
    "\n",
    "    return res"
   ]
  },
  {
   "cell_type": "markdown",
   "metadata": {},
   "source": [
    "### Standardize Mobile Number Using Decorators"
   ]
  },
  {
   "cell_type": "code",
   "execution_count": null,
   "metadata": {},
   "outputs": [],
   "source": [
    "def wrapper(f):\n",
    "    def fun(l):\n",
    "        app = []\n",
    "        for el in l:\n",
    "            if len(el) == 10:\n",
    "                app.append(int(el))\n",
    "            if len(el) == 11:\n",
    "                app.append(int(el[1:]))\n",
    "            if len(el) == 12:\n",
    "                app.append(int(el[2:]))\n",
    "            if len(el) == 13:\n",
    "                app.append(int(el[3:]))\n",
    "        for el in sorted(app):\n",
    "            print(\"+91 \" + str(el)[0:5] + \" \" + str(el)[5:])\n",
    "    return fun"
   ]
  },
  {
   "cell_type": "markdown",
   "metadata": {},
   "source": [
    "### Decorators 2 - Name Directory"
   ]
  },
  {
   "cell_type": "code",
   "execution_count": null,
   "metadata": {},
   "outputs": [],
   "source": [
    "def person_lister(f):\n",
    "    def inner(people):\n",
    "        l = []; app = sorted(map(int, zip(*people)[2])); flag = 0\n",
    "        for i in range(len(app)):\n",
    "            for j in range(len(people)):\n",
    "                if app[i] == int(people[j][2]) and flag == 0:\n",
    "                    if people[j][3] == \"M\":\n",
    "                        l.append(\"Mr. \" + people[j][0] + \" \" + people[j][1])\n",
    "                    else:\n",
    "                        l.append(\"Ms. \" + people[j][0] + \" \" + people[j][1])\n",
    "                    people[j][2] = \"10000000\"\n",
    "                    flag = 1\n",
    "            flag = 0\n",
    "        return l\n",
    "    return inner"
   ]
  },
  {
   "cell_type": "markdown",
   "metadata": {},
   "source": [
    "### Arrays "
   ]
  },
  {
   "cell_type": "code",
   "execution_count": null,
   "metadata": {},
   "outputs": [],
   "source": [
    "def arrays(arr):\n",
    "    arr.reverse()\n",
    "    return numpy.array(arr, float)"
   ]
  },
  {
   "cell_type": "markdown",
   "metadata": {},
   "source": [
    "### Shape and Reshape"
   ]
  },
  {
   "cell_type": "code",
   "execution_count": null,
   "metadata": {},
   "outputs": [],
   "source": [
    "import numpy\n",
    "\n",
    "if __name__ == '__main__':\n",
    "    arr = numpy.array(list(map(int, raw_input().split())))\n",
    "    print(numpy.reshape(arr,(3,3)))"
   ]
  },
  {
   "cell_type": "markdown",
   "metadata": {},
   "source": [
    "### Transpose and Flatten"
   ]
  },
  {
   "cell_type": "code",
   "execution_count": null,
   "metadata": {},
   "outputs": [],
   "source": [
    "import numpy\n",
    "\n",
    "if __name__ == '__main__':\n",
    "    n, m = map(int, raw_input().split())\n",
    "    l = []\n",
    "\n",
    "    for i in range(n):\n",
    "        l.append(list(map(int, raw_input().split())))\n",
    "    \n",
    "    arr = numpy.array(l)\n",
    "    print(numpy.transpose(arr))\n",
    "    print(arr.flatten())"
   ]
  },
  {
   "cell_type": "markdown",
   "metadata": {},
   "source": [
    "### Concatenate"
   ]
  },
  {
   "cell_type": "code",
   "execution_count": null,
   "metadata": {},
   "outputs": [],
   "source": [
    "import numpy\n",
    "\n",
    "if __name__ == '__main__':\n",
    "    n, m, p = map(int, raw_input().split())\n",
    "    l1 = []; l2 = []\n",
    "\n",
    "    for i in range(n):\n",
    "        l1.append(list(map(int, raw_input().split())))\n",
    "    for i in range(m):\n",
    "        l2.append(list(map(int, raw_input().split())))\n",
    "    \n",
    "    arr1 = numpy.array(l1); arr2 = numpy.array(l2)\n",
    "    print(numpy.concatenate((arr1, arr2), axis = 0))"
   ]
  },
  {
   "cell_type": "markdown",
   "metadata": {},
   "source": [
    "### Zeros and Ones"
   ]
  },
  {
   "cell_type": "code",
   "execution_count": null,
   "metadata": {},
   "outputs": [],
   "source": [
    "import numpy\n",
    "\n",
    "if __name__ == '__main__':\n",
    "    l = map(int, raw_input().split())\n",
    "    print(numpy.zeros(l, dtype = numpy.int))\n",
    "    print(numpy.ones(l, dtype = numpy.int))"
   ]
  },
  {
   "cell_type": "markdown",
   "metadata": {},
   "source": [
    "### Eye and Identity"
   ]
  },
  {
   "cell_type": "code",
   "execution_count": null,
   "metadata": {},
   "outputs": [],
   "source": [
    "import numpy\n",
    "\n",
    "if __name__ == '__main__':\n",
    "    n, m = map(int, raw_input().split())\n",
    "    numpy.set_printoptions(sign=' ')\n",
    "    print(numpy.eye(n, m, k = 0))"
   ]
  },
  {
   "cell_type": "markdown",
   "metadata": {},
   "source": [
    "### Array Mathematics"
   ]
  },
  {
   "cell_type": "code",
   "execution_count": null,
   "metadata": {},
   "outputs": [],
   "source": [
    "import numpy\n",
    "\n",
    "if __name__ == '__main__':\n",
    "    n, m = map(int, raw_input().split())\n",
    "    l1 = []; l2 =[]\n",
    "\n",
    "    for i in range(n):\n",
    "        l1.append(numpy.array(raw_input().split(), int))\n",
    "    for i in range(n):\n",
    "        l2.append(numpy.array(raw_input().split(), int))\n",
    "    \n",
    "    print(numpy.add(l1, l2))\n",
    "    print(numpy.subtract(l1, l2))\n",
    "    print(numpy.multiply(l1, l2))\n",
    "    print(numpy.divide(l1, l2))\n",
    "    print(numpy.mod(l1, l2))\n",
    "    print(numpy.power(l1, l2))"
   ]
  },
  {
   "cell_type": "markdown",
   "metadata": {},
   "source": [
    "### Floor, Ceil and Rint"
   ]
  },
  {
   "cell_type": "code",
   "execution_count": null,
   "metadata": {},
   "outputs": [],
   "source": [
    "import numpy\n",
    "\n",
    "if __name__ == '__main__':\n",
    "    arr = numpy.array(map(float, raw_input().split()))\n",
    "\n",
    "    numpy.set_printoptions(sign=' ')\n",
    "    print(numpy.floor(arr))\n",
    "    print(numpy.ceil(arr))\n",
    "    print(numpy.rint(arr))"
   ]
  },
  {
   "cell_type": "markdown",
   "metadata": {},
   "source": [
    "### Sum and Prod"
   ]
  },
  {
   "cell_type": "code",
   "execution_count": null,
   "metadata": {},
   "outputs": [],
   "source": [
    "import numpy\n",
    "\n",
    "if __name__ == '__main__':\n",
    "    n, m = map(int, raw_input().split())\n",
    "    l = []\n",
    "    res = 1\n",
    "\n",
    "    for i in range(n):\n",
    "        l.append(list(map(int, raw_input().split())))\n",
    "    \n",
    "    arr = numpy.array(l)\n",
    "    for el in numpy.sum(arr, axis=0):\n",
    "        res *= el\n",
    "    \n",
    "    print(res)"
   ]
  },
  {
   "cell_type": "markdown",
   "metadata": {},
   "source": [
    "### Min and Max"
   ]
  },
  {
   "cell_type": "code",
   "execution_count": null,
   "metadata": {},
   "outputs": [],
   "source": [
    "import numpy\n",
    "\n",
    "if __name__ == '__main__':\n",
    "    n, m = map(int, raw_input().split())\n",
    "    l = []\n",
    "\n",
    "    for i in range(n):\n",
    "        l.append(list(map(int, raw_input().split())))\n",
    "    \n",
    "    arr = numpy.array(l)\n",
    "    print(max(numpy.min(arr, axis=1)))"
   ]
  },
  {
   "cell_type": "markdown",
   "metadata": {},
   "source": [
    "### Mean, Var and Std"
   ]
  },
  {
   "cell_type": "code",
   "execution_count": null,
   "metadata": {},
   "outputs": [],
   "source": [
    "import numpy\n",
    "\n",
    "if __name__ == '__main__':\n",
    "    n, m = map(int, raw_input().split())\n",
    "    l = []\n",
    "\n",
    "    for i in range(n):\n",
    "        l.append(list(map(int, raw_input().split())))\n",
    "    \n",
    "    arr = numpy.array(l)\n",
    "    numpy.set_printoptions(sign=' ')\n",
    "    print(numpy.mean(arr, axis=1))\n",
    "    print(numpy.var(arr, axis=0))\n",
    "    print(round(numpy.std(arr), 12))"
   ]
  },
  {
   "cell_type": "markdown",
   "metadata": {},
   "source": [
    "### Dot and Cross"
   ]
  },
  {
   "cell_type": "code",
   "execution_count": null,
   "metadata": {},
   "outputs": [],
   "source": [
    "import numpy\n",
    "\n",
    "if __name__ == '__main__':\n",
    "    n = int(raw_input())\n",
    "    l1 = []; l2 = []; app = []; res = []\n",
    "\n",
    "    for i in range(n):\n",
    "        l1.append(list(map(int, raw_input().split())))\n",
    "    for i in range(n):\n",
    "        l2.append(list(map(int, raw_input().split())))\n",
    "    \n",
    "    for i in range(n):\n",
    "        for j in range(n):\n",
    "            app.append(numpy.dot(l1[i], numpy.transpose(l2)[j]))\n",
    "        res.append(app)\n",
    "        app = []\n",
    "    \n",
    "    print(numpy.array(res))"
   ]
  },
  {
   "cell_type": "markdown",
   "metadata": {},
   "source": [
    "### Inner and Outer"
   ]
  },
  {
   "cell_type": "code",
   "execution_count": null,
   "metadata": {},
   "outputs": [],
   "source": [
    "import numpy\n",
    "\n",
    "if __name__ == '__main__':\n",
    "    l1 = numpy.array(list(map(int, raw_input().split())))\n",
    "    l2 = numpy.array(list(map(int, raw_input().split())))\n",
    "\n",
    "    print(numpy.inner(l1, l2))\n",
    "    print(numpy.outer(l1, l2))"
   ]
  },
  {
   "cell_type": "markdown",
   "metadata": {},
   "source": [
    "### Polynomials"
   ]
  },
  {
   "cell_type": "code",
   "execution_count": null,
   "metadata": {},
   "outputs": [],
   "source": [
    "import numpy\n",
    "\n",
    "if __name__ == '__main__':\n",
    "    arr = numpy.array(list(map(float, raw_input().split())))\n",
    "    n = map(int, raw_input().split())\n",
    "\n",
    "    print(numpy.polyval(arr, n)[0])"
   ]
  },
  {
   "cell_type": "markdown",
   "metadata": {},
   "source": [
    "### Linear Algebra"
   ]
  },
  {
   "cell_type": "code",
   "execution_count": null,
   "metadata": {},
   "outputs": [],
   "source": [
    "import numpy\n",
    "\n",
    "if __name__ == '__main__':\n",
    "    n = int(raw_input())\n",
    "    l = []\n",
    "\n",
    "    for i in range(n):\n",
    "        l.append(list(map(float, raw_input().split())))\n",
    "\n",
    "    arr = numpy.array(l)\n",
    "    print(round(numpy.linalg.det(arr), 2))"
   ]
  },
  {
   "cell_type": "markdown",
   "metadata": {},
   "source": [
    "# Second Exercise "
   ]
  },
  {
   "cell_type": "markdown",
   "metadata": {},
   "source": [
    "### Birthday Cake Candles"
   ]
  },
  {
   "cell_type": "code",
   "execution_count": null,
   "metadata": {},
   "outputs": [],
   "source": [
    "# This function first taxes the maximum value of the list anf then uses it to find the number of the occurences \n",
    "\n",
    "def birthdayCakeCandles(ar):\n",
    "    cont = 0\n",
    "    cMax = max(ar)\n",
    "    for i in ar:\n",
    "        if i == cMax:\n",
    "            cont += 1\n",
    "    return cont"
   ]
  },
  {
   "cell_type": "markdown",
   "metadata": {},
   "source": [
    "### Kangaroo"
   ]
  },
  {
   "cell_type": "code",
   "execution_count": null,
   "metadata": {},
   "outputs": [],
   "source": [
    "def kangaroo(arr):\n",
    "    k1 = arr[0:2]; k2 = arr[2:]\n",
    "    sp1 = arr[0]; sp2 = arr[2]\n",
    "    i = 1\n",
    "    \n",
    "    # controlling if the kangaroos can reach each other\n",
    "    if k1[0] <= k2[0]:\n",
    "        if k1[1] <= k2[1]:\n",
    "            print(\"NO\")\n",
    "        else:\n",
    "            # controls if after the two kangaroos makes a step the one who was behind overtaken the other\n",
    "            while k1[0] < k2[0]:\n",
    "                k1[0] = sp1 + (i * k1[1])\n",
    "                k2[0] = sp2 + (i * k2[1])\n",
    "                i += 1\n",
    "            print(\"YES\" if k1[0] == k2[0] else \"NO\")\n",
    "    else:\n",
    "        if k1[1] >= k2[1]:\n",
    "            print(\"NO\")\n",
    "        else:\n",
    "            while k2[0] < k1[0]:\n",
    "                k1[0] += sp1 + (i * k1[1])\n",
    "                k2[0] += sp2 + (i * k2[1])\n",
    "                i += 1\n",
    "            print(\"YES\" if k1[0] == k2[0] else \"NO\")"
   ]
  },
  {
   "cell_type": "markdown",
   "metadata": {},
   "source": [
    "### Viral Advertising"
   ]
  },
  {
   "cell_type": "code",
   "execution_count": null,
   "metadata": {},
   "outputs": [],
   "source": [
    "def viralAdvertising(n):\n",
    "    # the first day\n",
    "    l = [5, 2, 2]\n",
    "\n",
    "    # computes the values of the table for every day and in after the last print the result\n",
    "    for i in range(1, n):\n",
    "        l[0] = 3 * l[1]\n",
    "        l[1] = int(l[0]/2)\n",
    "        l[2] += l[1]\n",
    "\n",
    "    print(l[2])"
   ]
  },
  {
   "cell_type": "markdown",
   "metadata": {},
   "source": [
    "### Recursive Digit Sum"
   ]
  },
  {
   "cell_type": "code",
   "execution_count": null,
   "metadata": {},
   "outputs": [],
   "source": [
    "# if the lenght is equal to one returns the value, instead it reduce the string and passes it to itself with the multiplication \n",
    "# factor equal to one\n",
    "\n",
    "def superDigit(n, k):\n",
    "    s = n * k; tot = 0\n",
    "    if len(s) == 1:\n",
    "        return int(n)\n",
    "    else:\n",
    "        for i in s:\n",
    "            tot += int(i)\n",
    "        return superDigit(str(tot), 1)"
   ]
  },
  {
   "cell_type": "markdown",
   "metadata": {},
   "source": [
    "### Insertion Sort - Part 1"
   ]
  },
  {
   "cell_type": "code",
   "execution_count": null,
   "metadata": {},
   "outputs": [],
   "source": [
    "# prints the elements of the list according to the pattern\n",
    "def stampaArr(arr):\n",
    "    s = \"\"\n",
    "    for el in arr:\n",
    "        s += str(el) + \" \"\n",
    "    print(s)\n",
    "        \n",
    "def firstInsSort(arr, n):\n",
    "    i = 0; val = 0\n",
    "\n",
    "    # controls the item that is unsorted \n",
    "    while arr[i] <= arr[i+1]:\n",
    "        i += 1\n",
    "    val = arr[i+1]\n",
    "    arr[i+1] = arr[i]\n",
    "    stampaArr(arr)\n",
    "\n",
    "    # transpose by one the sorted values and insert the unsorted in the right place\n",
    "    while arr[i-1] > val and i != 0:\n",
    "        arr[i] = arr[i-1]\n",
    "        stampaArr(arr)\n",
    "        i -=1\n",
    "    \n",
    "    arr[i] = val\n",
    "    stampaArr(arr)"
   ]
  },
  {
   "cell_type": "markdown",
   "metadata": {},
   "source": [
    "### Insertion Sort - Part 2"
   ]
  },
  {
   "cell_type": "code",
   "execution_count": null,
   "metadata": {},
   "outputs": [],
   "source": [
    "def stampaArr(arr):\n",
    "    s = \"\"\n",
    "    for el in arr:\n",
    "        s += str(el) + \" \"\n",
    "    print(s)\n",
    "        \n",
    "def secInsSort(arr, n):\n",
    "    i = 0; val = 0\n",
    "\n",
    "    # applies the insertion sort to the input\n",
    "    for i in range(n-1):\n",
    "        if arr[i] > arr[i+1]:\n",
    "            val = arr[i+1]\n",
    "            arr[i+1] = arr[i]\n",
    "\n",
    "            while arr[i-1] > val and i != 0:\n",
    "                arr[i] = arr[i-1]\n",
    "                i -=1\n",
    "        \n",
    "            arr[i] = val\n",
    "        val = 0\n",
    "        stampaArr(arr)"
   ]
  }
 ],
 "metadata": {
  "kernelspec": {
   "display_name": "Python 3",
   "language": "python",
   "name": "python3"
  },
  "language_info": {
   "codemirror_mode": {
    "name": "ipython",
    "version": 3
   },
   "file_extension": ".py",
   "mimetype": "text/x-python",
   "name": "python",
   "nbconvert_exporter": "python",
   "pygments_lexer": "ipython3",
   "version": "3.7.3"
  }
 },
 "nbformat": 4,
 "nbformat_minor": 2
}
